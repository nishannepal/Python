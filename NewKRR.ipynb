{
 "cells": [
  {
   "cell_type": "code",
   "execution_count": 1,
   "id": "04cf024f",
   "metadata": {},
   "outputs": [],
   "source": [
    "import numpy as np\n",
    "import pandas as pd\n",
    "from sklearn.preprocessing import StandardScaler\n",
    "from sklearn.model_selection import train_test_split, GridSearchCV\n",
    "import matplotlib.pyplot as plt"
   ]
  },
  {
   "cell_type": "code",
   "execution_count": 2,
   "id": "1c3c86f6",
   "metadata": {},
   "outputs": [],
   "source": [
    "data = pd.read_csv('new_cook_corr.csv')"
   ]
  },
  {
   "cell_type": "code",
   "execution_count": 3,
   "id": "4d77418f",
   "metadata": {},
   "outputs": [
    {
     "data": {
      "text/html": [
       "<div>\n",
       "<style scoped>\n",
       "    .dataframe tbody tr th:only-of-type {\n",
       "        vertical-align: middle;\n",
       "    }\n",
       "\n",
       "    .dataframe tbody tr th {\n",
       "        vertical-align: top;\n",
       "    }\n",
       "\n",
       "    .dataframe thead th {\n",
       "        text-align: right;\n",
       "    }\n",
       "</style>\n",
       "<table border=\"1\" class=\"dataframe\">\n",
       "  <thead>\n",
       "    <tr style=\"text-align: right;\">\n",
       "      <th></th>\n",
       "      <th>Unnamed: 0</th>\n",
       "      <th>compound</th>\n",
       "      <th>atm_ra</th>\n",
       "      <th>vdw_ra</th>\n",
       "      <th>e_aff_a</th>\n",
       "      <th>ion_e_a</th>\n",
       "      <th>c</th>\n",
       "      <th>band_gap</th>\n",
       "      <th>mat_id</th>\n",
       "    </tr>\n",
       "  </thead>\n",
       "  <tbody>\n",
       "    <tr>\n",
       "      <th>0</th>\n",
       "      <td>0</td>\n",
       "      <td>ScBr3</td>\n",
       "      <td>1.60</td>\n",
       "      <td>2.30</td>\n",
       "      <td>0.187</td>\n",
       "      <td>6.560</td>\n",
       "      <td>3.52</td>\n",
       "      <td>2.23</td>\n",
       "      <td>mp-1186984</td>\n",
       "    </tr>\n",
       "    <tr>\n",
       "      <th>1</th>\n",
       "      <td>1</td>\n",
       "      <td>ScI3</td>\n",
       "      <td>1.60</td>\n",
       "      <td>2.30</td>\n",
       "      <td>0.187</td>\n",
       "      <td>6.560</td>\n",
       "      <td>3.82</td>\n",
       "      <td>1.69</td>\n",
       "      <td>mp-1186991</td>\n",
       "    </tr>\n",
       "    <tr>\n",
       "      <th>2</th>\n",
       "      <td>2</td>\n",
       "      <td>TiF3</td>\n",
       "      <td>1.40</td>\n",
       "      <td>2.15</td>\n",
       "      <td>0.087</td>\n",
       "      <td>6.830</td>\n",
       "      <td>13.72</td>\n",
       "      <td>0.00</td>\n",
       "      <td>mp-562468</td>\n",
       "    </tr>\n",
       "    <tr>\n",
       "      <th>3</th>\n",
       "      <td>3</td>\n",
       "      <td>TiCl3</td>\n",
       "      <td>1.40</td>\n",
       "      <td>2.15</td>\n",
       "      <td>0.080</td>\n",
       "      <td>6.820</td>\n",
       "      <td>12.55</td>\n",
       "      <td>0.00</td>\n",
       "      <td>mp-567330</td>\n",
       "    </tr>\n",
       "    <tr>\n",
       "      <th>4</th>\n",
       "      <td>4</td>\n",
       "      <td>TiCl3</td>\n",
       "      <td>1.40</td>\n",
       "      <td>2.15</td>\n",
       "      <td>0.080</td>\n",
       "      <td>6.820</td>\n",
       "      <td>18.91</td>\n",
       "      <td>0.00</td>\n",
       "      <td>mp-23275</td>\n",
       "    </tr>\n",
       "    <tr>\n",
       "      <th>...</th>\n",
       "      <td>...</td>\n",
       "      <td>...</td>\n",
       "      <td>...</td>\n",
       "      <td>...</td>\n",
       "      <td>...</td>\n",
       "      <td>...</td>\n",
       "      <td>...</td>\n",
       "      <td>...</td>\n",
       "      <td>...</td>\n",
       "    </tr>\n",
       "    <tr>\n",
       "      <th>61</th>\n",
       "      <td>61</td>\n",
       "      <td>PtBr3</td>\n",
       "      <td>1.35</td>\n",
       "      <td>2.05</td>\n",
       "      <td>2.120</td>\n",
       "      <td>9.016</td>\n",
       "      <td>9.27</td>\n",
       "      <td>0.95</td>\n",
       "      <td>mp-23165</td>\n",
       "    </tr>\n",
       "    <tr>\n",
       "      <th>62</th>\n",
       "      <td>62</td>\n",
       "      <td>PtI3</td>\n",
       "      <td>1.35</td>\n",
       "      <td>2.05</td>\n",
       "      <td>2.120</td>\n",
       "      <td>9.016</td>\n",
       "      <td>13.56</td>\n",
       "      <td>0.35</td>\n",
       "      <td>mp-28268</td>\n",
       "    </tr>\n",
       "    <tr>\n",
       "      <th>63</th>\n",
       "      <td>63</td>\n",
       "      <td>AuF3</td>\n",
       "      <td>1.35</td>\n",
       "      <td>2.10</td>\n",
       "      <td>2.300</td>\n",
       "      <td>9.220</td>\n",
       "      <td>16.62</td>\n",
       "      <td>1.55</td>\n",
       "      <td>mp-942</td>\n",
       "    </tr>\n",
       "    <tr>\n",
       "      <th>64</th>\n",
       "      <td>64</td>\n",
       "      <td>AuCl3</td>\n",
       "      <td>1.35</td>\n",
       "      <td>2.10</td>\n",
       "      <td>2.310</td>\n",
       "      <td>9.230</td>\n",
       "      <td>7.11</td>\n",
       "      <td>1.36</td>\n",
       "      <td>mp-27647</td>\n",
       "    </tr>\n",
       "    <tr>\n",
       "      <th>65</th>\n",
       "      <td>65</td>\n",
       "      <td>AuBr3</td>\n",
       "      <td>1.35</td>\n",
       "      <td>2.10</td>\n",
       "      <td>2.310</td>\n",
       "      <td>9.230</td>\n",
       "      <td>9.14</td>\n",
       "      <td>0.75</td>\n",
       "      <td>mp-27213</td>\n",
       "    </tr>\n",
       "  </tbody>\n",
       "</table>\n",
       "<p>66 rows × 9 columns</p>\n",
       "</div>"
      ],
      "text/plain": [
       "    Unnamed: 0 compound  atm_ra  vdw_ra  e_aff_a  ion_e_a      c  band_gap  \\\n",
       "0            0    ScBr3    1.60    2.30    0.187    6.560   3.52      2.23   \n",
       "1            1     ScI3    1.60    2.30    0.187    6.560   3.82      1.69   \n",
       "2            2     TiF3    1.40    2.15    0.087    6.830  13.72      0.00   \n",
       "3            3    TiCl3    1.40    2.15    0.080    6.820  12.55      0.00   \n",
       "4            4    TiCl3    1.40    2.15    0.080    6.820  18.91      0.00   \n",
       "..         ...      ...     ...     ...      ...      ...    ...       ...   \n",
       "61          61    PtBr3    1.35    2.05    2.120    9.016   9.27      0.95   \n",
       "62          62     PtI3    1.35    2.05    2.120    9.016  13.56      0.35   \n",
       "63          63     AuF3    1.35    2.10    2.300    9.220  16.62      1.55   \n",
       "64          64    AuCl3    1.35    2.10    2.310    9.230   7.11      1.36   \n",
       "65          65    AuBr3    1.35    2.10    2.310    9.230   9.14      0.75   \n",
       "\n",
       "        mat_id  \n",
       "0   mp-1186984  \n",
       "1   mp-1186991  \n",
       "2    mp-562468  \n",
       "3    mp-567330  \n",
       "4     mp-23275  \n",
       "..         ...  \n",
       "61    mp-23165  \n",
       "62    mp-28268  \n",
       "63      mp-942  \n",
       "64    mp-27647  \n",
       "65    mp-27213  \n",
       "\n",
       "[66 rows x 9 columns]"
      ]
     },
     "execution_count": 3,
     "metadata": {},
     "output_type": "execute_result"
    }
   ],
   "source": [
    "data"
   ]
  },
  {
   "cell_type": "code",
   "execution_count": 4,
   "id": "23adf5cc",
   "metadata": {},
   "outputs": [],
   "source": [
    "X = data.iloc[:,2:7].values\n",
    "y = data.iloc[:,7].values"
   ]
  },
  {
   "cell_type": "code",
   "execution_count": 5,
   "id": "2996bf15",
   "metadata": {},
   "outputs": [],
   "source": [
    "X_train,X_test,y_train,y_test = train_test_split(X,y, test_size=0.1,random_state=1)"
   ]
  },
  {
   "cell_type": "code",
   "execution_count": 6,
   "id": "2503c7e9",
   "metadata": {},
   "outputs": [
    {
     "data": {
      "text/plain": [
       "((59, 5), (7, 5))"
      ]
     },
     "execution_count": 6,
     "metadata": {},
     "output_type": "execute_result"
    }
   ],
   "source": [
    "X_train.shape,X_test.shape"
   ]
  },
  {
   "cell_type": "code",
   "execution_count": 7,
   "id": "798c470a",
   "metadata": {},
   "outputs": [],
   "source": [
    "from sklearn.kernel_ridge import KernelRidge\n",
    "params = {'alpha': np.arange(0.1,100,0.1), 'kernel':['poly','rbf']}\n",
    "search = GridSearchCV(KernelRidge(), param_grid = params, cv = 5,scoring='neg_mean_absolute_error',verbose=1,return_train_score=True )\n",
    "#search.fit(scaler.transform(X_train),y_train)"
   ]
  },
  {
   "cell_type": "code",
   "execution_count": 8,
   "id": "f4279956",
   "metadata": {},
   "outputs": [],
   "source": [
    "scaler = StandardScaler()"
   ]
  },
  {
   "cell_type": "code",
   "execution_count": 9,
   "id": "0cffd5fb",
   "metadata": {},
   "outputs": [
    {
     "name": "stdout",
     "output_type": "stream",
     "text": [
      "Fitting 5 folds for each of 1998 candidates, totalling 9990 fits\n",
      "Fitting 5 folds for each of 1998 candidates, totalling 9990 fits\n",
      "Fitting 5 folds for each of 1998 candidates, totalling 9990 fits\n",
      "Fitting 5 folds for each of 1998 candidates, totalling 9990 fits\n",
      "Fitting 5 folds for each of 1998 candidates, totalling 9990 fits\n"
     ]
    },
    {
     "data": {
      "text/plain": [
       "{'alpha': 0.1, 'kernel': 'rbf'}"
      ]
     },
     "execution_count": 9,
     "metadata": {},
     "output_type": "execute_result"
    }
   ],
   "source": [
    "from sklearn.model_selection import KFold\n",
    "from sklearn.metrics import mean_absolute_error\n",
    "scores = []\n",
    "cv = KFold(n_splits=5, shuffle=True, random_state=1)\n",
    "for train, test in cv.split(X_train, y_train):\n",
    "    scaler.fit(X_train[train])\n",
    "    search.fit(scaler.transform(X_train[train]),y_train[train])\n",
    "search.best_params_"
   ]
  },
  {
   "cell_type": "code",
   "execution_count": 10,
   "id": "16aa69ca",
   "metadata": {},
   "outputs": [
    {
     "data": {
      "image/png": "[encoded data removed]",
      "text/plain": [
       "<Figure size 600x700 with 1 Axes>"
      ]
     },
     "metadata": {},
     "output_type": "display_data"
    }
   ],
   "source": [
    "from sklearn.model_selection import KFold\n",
    "from sklearn.metrics import mean_absolute_error\n",
    "model = KernelRidge(alpha = 0.1, kernel='rbf')\n",
    "scores = []\n",
    "scaler = StandardScaler()\n",
    "cv = KFold(n_splits=5, shuffle=True, random_state=1)\n",
    "fig = plt.figure(figsize=(6,7))\n",
    "i = 1\n",
    "for train, test in cv.split(X_train, y_train):\n",
    "    scaler.fit(X_train[train])\n",
    "    model.fit(scaler.transform(X_train[train]),\n",
    "                 y_train[train])\n",
    "    prediction = abs(model.predict(scaler.transform(X_train[test])))\n",
    "    true = y_train[test]\n",
    "    score = mean_absolute_error(true, prediction)\n",
    "    scores.append(score)\n",
    "    plt.scatter(prediction, true, lw=1, alpha=0.5, \n",
    "                label='Fold %d (mae = %0.2f eV)' % (i,score))\n",
    "    i = i+1\n",
    "plt.plot([min(y_train),max(y_train)], [min(y_train),max(y_train)], \n",
    "         linestyle='--', lw=2, color='black')\n",
    "plt.xlabel('Predicted (eV)')\n",
    "plt.ylabel('True (eV)')\n",
    "plt.title('5-Fold Validation(KRR)')\n",
    "plt.xlim([0, 4])\n",
    "plt.ylim([0, 4])\n",
    "plt.legend()\n",
    "plt.savefig('newKRR_5foldVal.png')\n",
    "plt.show()\n"
   ]
  },
  {
   "cell_type": "code",
   "execution_count": 11,
   "id": "a603d36c",
   "metadata": {},
   "outputs": [
    {
     "name": "stdout",
     "output_type": "stream",
     "text": [
      "Fitting 5 folds for each of 1998 candidates, totalling 9990 fits\n"
     ]
    },
    {
     "data": {
      "text/html": [
       "<style>#sk-container-id-1 {color: black;background-color: white;}#sk-container-id-1 pre{padding: 0;}#sk-container-id-1 div.sk-toggleable {background-color: white;}#sk-container-id-1 label.sk-toggleable__label {cursor: pointer;display: block;width: 100%;margin-bottom: 0;padding: 0.3em;box-sizing: border-box;text-align: center;}#sk-container-id-1 label.sk-toggleable__label-arrow:before {content: \"▸\";float: left;margin-right: 0.25em;color: #696969;}#sk-container-id-1 label.sk-toggleable__label-arrow:hover:before {color: black;}#sk-container-id-1 div.sk-estimator:hover label.sk-toggleable__label-arrow:before {color: black;}#sk-container-id-1 div.sk-toggleable__content {max-height: 0;max-width: 0;overflow: hidden;text-align: left;background-color: #f0f8ff;}#sk-container-id-1 div.sk-toggleable__content pre {margin: 0.2em;color: black;border-radius: 0.25em;background-color: #f0f8ff;}#sk-container-id-1 input.sk-toggleable__control:checked~div.sk-toggleable__content {max-height: 200px;max-width: 100%;overflow: auto;}#sk-container-id-1 input.sk-toggleable__control:checked~label.sk-toggleable__label-arrow:before {content: \"▾\";}#sk-container-id-1 div.sk-estimator input.sk-toggleable__control:checked~label.sk-toggleable__label {background-color: #d4ebff;}#sk-container-id-1 div.sk-label input.sk-toggleable__control:checked~label.sk-toggleable__label {background-color: #d4ebff;}#sk-container-id-1 input.sk-hidden--visually {border: 0;clip: rect(1px 1px 1px 1px);clip: rect(1px, 1px, 1px, 1px);height: 1px;margin: -1px;overflow: hidden;padding: 0;position: absolute;width: 1px;}#sk-container-id-1 div.sk-estimator {font-family: monospace;background-color: #f0f8ff;border: 1px dotted black;border-radius: 0.25em;box-sizing: border-box;margin-bottom: 0.5em;}#sk-container-id-1 div.sk-estimator:hover {background-color: #d4ebff;}#sk-container-id-1 div.sk-parallel-item::after {content: \"\";width: 100%;border-bottom: 1px solid gray;flex-grow: 1;}#sk-container-id-1 div.sk-label:hover label.sk-toggleable__label {background-color: #d4ebff;}#sk-container-id-1 div.sk-serial::before {content: \"\";position: absolute;border-left: 1px solid gray;box-sizing: border-box;top: 0;bottom: 0;left: 50%;z-index: 0;}#sk-container-id-1 div.sk-serial {display: flex;flex-direction: column;align-items: center;background-color: white;padding-right: 0.2em;padding-left: 0.2em;position: relative;}#sk-container-id-1 div.sk-item {position: relative;z-index: 1;}#sk-container-id-1 div.sk-parallel {display: flex;align-items: stretch;justify-content: center;background-color: white;position: relative;}#sk-container-id-1 div.sk-item::before, #sk-container-id-1 div.sk-parallel-item::before {content: \"\";position: absolute;border-left: 1px solid gray;box-sizing: border-box;top: 0;bottom: 0;left: 50%;z-index: -1;}#sk-container-id-1 div.sk-parallel-item {display: flex;flex-direction: column;z-index: 1;position: relative;background-color: white;}#sk-container-id-1 div.sk-parallel-item:first-child::after {align-self: flex-end;width: 50%;}#sk-container-id-1 div.sk-parallel-item:last-child::after {align-self: flex-start;width: 50%;}#sk-container-id-1 div.sk-parallel-item:only-child::after {width: 0;}#sk-container-id-1 div.sk-dashed-wrapped {border: 1px dashed gray;margin: 0 0.4em 0.5em 0.4em;box-sizing: border-box;padding-bottom: 0.4em;background-color: white;}#sk-container-id-1 div.sk-label label {font-family: monospace;font-weight: bold;display: inline-block;line-height: 1.2em;}#sk-container-id-1 div.sk-label-container {text-align: center;}#sk-container-id-1 div.sk-container {/* jupyter's `normalize.less` sets `[hidden] { display: none; }` but bootstrap.min.css set `[hidden] { display: none !important; }` so we also need the `!important` here to be able to override the default hidden behavior on the sphinx rendered scikit-learn.org. See: https://github.com/scikit-learn/scikit-learn/issues/21755 */display: inline-block !important;position: relative;}#sk-container-id-1 div.sk-text-repr-fallback {display: none;}</style><div id=\"sk-container-id-1\" class=\"sk-top-container\"><div class=\"sk-text-repr-fallback\"><pre>GridSearchCV(cv=5, estimator=KernelRidge(),\n",
       "             param_grid={&#x27;alpha&#x27;: array([ 0.1,  0.2,  0.3,  0.4,  0.5,  0.6,  0.7,  0.8,  0.9,  1. ,  1.1,\n",
       "        1.2,  1.3,  1.4,  1.5,  1.6,  1.7,  1.8,  1.9,  2. ,  2.1,  2.2,\n",
       "        2.3,  2.4,  2.5,  2.6,  2.7,  2.8,  2.9,  3. ,  3.1,  3.2,  3.3,\n",
       "        3.4,  3.5,  3.6,  3.7,  3.8,  3.9,  4. ,  4.1,  4.2,  4.3,  4.4,\n",
       "        4.5,  4.6,  4.7,  4.8,  4.9,  5. ,  5.1,  5.2,  5.3,  5.4,  5.5,\n",
       "        5.6,  5.7,  5.8,  5.9,  6. ,  6.1,  6.2,  6.3,  6.4,  6.5,  6.6,\n",
       "        6.7,  6.8,  6.9,  7. ,  7.1,  7.2,...\n",
       "       94.7, 94.8, 94.9, 95. , 95.1, 95.2, 95.3, 95.4, 95.5, 95.6, 95.7,\n",
       "       95.8, 95.9, 96. , 96.1, 96.2, 96.3, 96.4, 96.5, 96.6, 96.7, 96.8,\n",
       "       96.9, 97. , 97.1, 97.2, 97.3, 97.4, 97.5, 97.6, 97.7, 97.8, 97.9,\n",
       "       98. , 98.1, 98.2, 98.3, 98.4, 98.5, 98.6, 98.7, 98.8, 98.9, 99. ,\n",
       "       99.1, 99.2, 99.3, 99.4, 99.5, 99.6, 99.7, 99.8, 99.9]),\n",
       "                         &#x27;kernel&#x27;: [&#x27;poly&#x27;, &#x27;rbf&#x27;]},\n",
       "             return_train_score=True, scoring=&#x27;neg_mean_absolute_error&#x27;,\n",
       "             verbose=1)</pre><b>In a Jupyter environment, please rerun this cell to show the HTML representation or trust the notebook. <br />On GitHub, the HTML representation is unable to render, please try loading this page with nbviewer.org.</b></div><div class=\"sk-container\" hidden><div class=\"sk-item sk-dashed-wrapped\"><div class=\"sk-label-container\"><div class=\"sk-label sk-toggleable\"><input class=\"sk-toggleable__control sk-hidden--visually\" id=\"sk-estimator-id-1\" type=\"checkbox\" ><label for=\"sk-estimator-id-1\" class=\"sk-toggleable__label sk-toggleable__label-arrow\">GridSearchCV</label><div class=\"sk-toggleable__content\"><pre>GridSearchCV(cv=5, estimator=KernelRidge(),\n",
       "             param_grid={&#x27;alpha&#x27;: array([ 0.1,  0.2,  0.3,  0.4,  0.5,  0.6,  0.7,  0.8,  0.9,  1. ,  1.1,\n",
       "        1.2,  1.3,  1.4,  1.5,  1.6,  1.7,  1.8,  1.9,  2. ,  2.1,  2.2,\n",
       "        2.3,  2.4,  2.5,  2.6,  2.7,  2.8,  2.9,  3. ,  3.1,  3.2,  3.3,\n",
       "        3.4,  3.5,  3.6,  3.7,  3.8,  3.9,  4. ,  4.1,  4.2,  4.3,  4.4,\n",
       "        4.5,  4.6,  4.7,  4.8,  4.9,  5. ,  5.1,  5.2,  5.3,  5.4,  5.5,\n",
       "        5.6,  5.7,  5.8,  5.9,  6. ,  6.1,  6.2,  6.3,  6.4,  6.5,  6.6,\n",
       "        6.7,  6.8,  6.9,  7. ,  7.1,  7.2,...\n",
       "       94.7, 94.8, 94.9, 95. , 95.1, 95.2, 95.3, 95.4, 95.5, 95.6, 95.7,\n",
       "       95.8, 95.9, 96. , 96.1, 96.2, 96.3, 96.4, 96.5, 96.6, 96.7, 96.8,\n",
       "       96.9, 97. , 97.1, 97.2, 97.3, 97.4, 97.5, 97.6, 97.7, 97.8, 97.9,\n",
       "       98. , 98.1, 98.2, 98.3, 98.4, 98.5, 98.6, 98.7, 98.8, 98.9, 99. ,\n",
       "       99.1, 99.2, 99.3, 99.4, 99.5, 99.6, 99.7, 99.8, 99.9]),\n",
       "                         &#x27;kernel&#x27;: [&#x27;poly&#x27;, &#x27;rbf&#x27;]},\n",
       "             return_train_score=True, scoring=&#x27;neg_mean_absolute_error&#x27;,\n",
       "             verbose=1)</pre></div></div></div><div class=\"sk-parallel\"><div class=\"sk-parallel-item\"><div class=\"sk-item\"><div class=\"sk-label-container\"><div class=\"sk-label sk-toggleable\"><input class=\"sk-toggleable__control sk-hidden--visually\" id=\"sk-estimator-id-2\" type=\"checkbox\" ><label for=\"sk-estimator-id-2\" class=\"sk-toggleable__label sk-toggleable__label-arrow\">estimator: KernelRidge</label><div class=\"sk-toggleable__content\"><pre>KernelRidge()</pre></div></div></div><div class=\"sk-serial\"><div class=\"sk-item\"><div class=\"sk-estimator sk-toggleable\"><input class=\"sk-toggleable__control sk-hidden--visually\" id=\"sk-estimator-id-3\" type=\"checkbox\" ><label for=\"sk-estimator-id-3\" class=\"sk-toggleable__label sk-toggleable__label-arrow\">KernelRidge</label><div class=\"sk-toggleable__content\"><pre>KernelRidge()</pre></div></div></div></div></div></div></div></div></div></div>"
      ],
      "text/plain": [
       "GridSearchCV(cv=5, estimator=KernelRidge(),\n",
       "             param_grid={'alpha': array([ 0.1,  0.2,  0.3,  0.4,  0.5,  0.6,  0.7,  0.8,  0.9,  1. ,  1.1,\n",
       "        1.2,  1.3,  1.4,  1.5,  1.6,  1.7,  1.8,  1.9,  2. ,  2.1,  2.2,\n",
       "        2.3,  2.4,  2.5,  2.6,  2.7,  2.8,  2.9,  3. ,  3.1,  3.2,  3.3,\n",
       "        3.4,  3.5,  3.6,  3.7,  3.8,  3.9,  4. ,  4.1,  4.2,  4.3,  4.4,\n",
       "        4.5,  4.6,  4.7,  4.8,  4.9,  5. ,  5.1,  5.2,  5.3,  5.4,  5.5,\n",
       "        5.6,  5.7,  5.8,  5.9,  6. ,  6.1,  6.2,  6.3,  6.4,  6.5,  6.6,\n",
       "        6.7,  6.8,  6.9,  7. ,  7.1,  7.2,...\n",
       "       94.7, 94.8, 94.9, 95. , 95.1, 95.2, 95.3, 95.4, 95.5, 95.6, 95.7,\n",
       "       95.8, 95.9, 96. , 96.1, 96.2, 96.3, 96.4, 96.5, 96.6, 96.7, 96.8,\n",
       "       96.9, 97. , 97.1, 97.2, 97.3, 97.4, 97.5, 97.6, 97.7, 97.8, 97.9,\n",
       "       98. , 98.1, 98.2, 98.3, 98.4, 98.5, 98.6, 98.7, 98.8, 98.9, 99. ,\n",
       "       99.1, 99.2, 99.3, 99.4, 99.5, 99.6, 99.7, 99.8, 99.9]),\n",
       "                         'kernel': ['poly', 'rbf']},\n",
       "             return_train_score=True, scoring='neg_mean_absolute_error',\n",
       "             verbose=1)"
      ]
     },
     "execution_count": 11,
     "metadata": {},
     "output_type": "execute_result"
    }
   ],
   "source": [
    "from sklearn.kernel_ridge import KernelRidge\n",
    "params = {'alpha': np.arange(0.1,100,0.1), 'kernel':['poly','rbf']}\n",
    "search = GridSearchCV(KernelRidge(), param_grid = params, cv = 5,scoring='neg_mean_absolute_error',verbose=1,return_train_score=True )\n",
    "search.fit(scaler.transform(X_train),y_train)"
   ]
  },
  {
   "cell_type": "code",
   "execution_count": 12,
   "id": "99b59aea",
   "metadata": {},
   "outputs": [
    {
     "data": {
      "text/plain": [
       "{'alpha': 0.1, 'kernel': 'rbf'}"
      ]
     },
     "execution_count": 12,
     "metadata": {},
     "output_type": "execute_result"
    }
   ],
   "source": [
    "search.best_params_"
   ]
  },
  {
   "cell_type": "code",
   "execution_count": 13,
   "id": "b0b0452c",
   "metadata": {},
   "outputs": [],
   "source": [
    "from sklearn.metrics import mean_squared_error, mean_absolute_error\n",
    "reg = KernelRidge(kernel = 'rbf', alpha = 0.1)\n",
    "reg.fit(scaler.transform(X_train),y_train)\n",
    "y_pred = abs(reg.predict(scaler.transform(X_test)))\n",
    "mse = mean_squared_error(y_test,y_pred)\n",
    "mae = mean_absolute_error(y_test,y_pred)\n",
    "rmse = np.sqrt(mse)"
   ]
  },
  {
   "cell_type": "code",
   "execution_count": 14,
   "id": "253f1767",
   "metadata": {},
   "outputs": [
    {
     "name": "stdout",
     "output_type": "stream",
     "text": [
      "mse 0.1432979118608469 mae 0.3052054253904937 rmse 0.3785471065281663\n"
     ]
    }
   ],
   "source": [
    "print(\"mse\",mse, 'mae',mae,'rmse',rmse)"
   ]
  },
  {
   "cell_type": "code",
   "execution_count": 15,
   "id": "8f7bd69a",
   "metadata": {},
   "outputs": [
    {
     "data": {
      "text/plain": [
       "(array([1.52, 1.68, 1.05, 0.  , 0.  , 1.9 , 0.  ]),\n",
       " array([0.91247522, 1.34505767, 0.91522343, 0.03197359, 0.12238028,\n",
       "        1.24974071, 0.25458115]))"
      ]
     },
     "execution_count": 15,
     "metadata": {},
     "output_type": "execute_result"
    }
   ],
   "source": [
    "y_test,y_pred"
   ]
  },
  {
   "cell_type": "code",
   "execution_count": null,
   "id": "0c03b5e9",
   "metadata": {},
   "outputs": [],
   "source": []
  }
 ],
 "metadata": {
  "kernelspec": {
   "display_name": "Python 3.9 (tensorflow)",
   "language": "python",
   "name": "tensorflow"
  },
  "language_info": {
   "codemirror_mode": {
    "name": "ipython",
    "version": 3
   },
   "file_extension": ".py",
   "mimetype": "text/x-python",
   "name": "python",
   "nbconvert_exporter": "python",
   "pygments_lexer": "ipython3",
   "version": "3.9.13"
  }
 },
 "nbformat": 4,
 "nbformat_minor": 5
}
